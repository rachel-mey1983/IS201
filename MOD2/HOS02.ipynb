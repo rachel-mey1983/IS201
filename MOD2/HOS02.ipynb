{
 "cells": [
  {
   "cell_type": "code",
   "execution_count": null,
   "id": "58c03d93-64cb-42f6-8d47-6257c2e8607e",
   "metadata": {},
   "outputs": [
    {
     "name": "stdout",
     "output_type": "stream",
     "text": [
      "The Great Gatsby by F. Scott Fitzgerald (FICTION)\n",
      "The Da Vinci Code by Dan Brown (FICTION)\n",
      "The Catcher in the Rye by J.D. Salinger (FICTION)\n"
     ]
    }
   ],
   "source": [
    "# HOS02: Enumerations\n",
    "from enum import Enum\n",
    "from pty import CHILD\n",
    "\n",
    "class Category (Enum):\n",
    "    FICTION = 1\n",
    "    NONFICTION = 2\n",
    "    EDUCATIONAL = 3\n",
    "    CHILDREN = 4\n",
    "    \n",
    "class Book:\n",
    "    def __init__(self, title, author, category):\n",
    "        self.title = title\n",
    "        self.author = author\n",
    "        self.category = category\n",
    "        \n",
    "    def __str__(self):\n",
    "        return f\"{self.title} by {self.author} ({self.category.name})\"\n",
    "class Library:\n",
    "    def __init__(self):\n",
    "        self.books = []\n",
    "        \n",
    "    def add_book(self, book):\n",
    "        self.books.append(book)\n",
    "        \n",
    "    def get_books(self, category=None):\n",
    "        if category:\n",
    "            return [book for book in self.books if book.category == category]\n",
    "        return self.books\n",
    "    \n",
    "    def display_books(self):\n",
    "        for book in self.books:\n",
    "            print(book)\n",
    "    \n",
    "book1 = Book(\"The Great Gatsby\", \"F. Scott Fitzgerald\", Category.FICTION)\n",
    "book2 = Book(\"The Da Vinci Code\", \"Dan Brown\", Category.FICTION)\n",
    "\n",
    "fiction_category_number = 1\n",
    "fiction_category_enum = Category(fiction_category_number)\n",
    "book3 = Book(\"The Catcher in the Rye\", \"J.D. Salinger\", fiction_category_enum)\n",
    "\n",
    "library = Library()\n",
    "library.add_book(book1)\n",
    "library.add_book(book2)\n",
    "library.add_book(book3)\n",
    "library.display_books()"
   ]
  }
 ],
 "metadata": {
  "language_info": {
   "codemirror_mode": {
    "name": "ipython",
    "version": 3
   },
   "file_extension": ".py",
   "mimetype": "text/x-python",
   "name": "python",
   "nbconvert_exporter": "python",
   "pygments_lexer": "ipython3",
   "version": 3
  }
 },
 "nbformat": 4,
 "nbformat_minor": 2
}
